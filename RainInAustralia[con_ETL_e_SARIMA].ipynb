{
  "nbformat": 4,
  "nbformat_minor": 0,
  "metadata": {
    "colab": {
      "name": "RainInAustralia[con ETL e SARIMA].ipynb",
      "provenance": [],
      "collapsed_sections": [],
      "include_colab_link": true
    },
    "kernelspec": {
      "name": "python3",
      "display_name": "Python 3"
    },
    "language_info": {
      "name": "python"
    }
  },
  "cells": [
    {
      "cell_type": "markdown",
      "metadata": {
        "id": "view-in-github",
        "colab_type": "text"
      },
      "source": [
        "<a href=\"https://colab.research.google.com/github/Renato89/rain-in-australia/blob/main/RainInAustralia%5Bcon_ETL_e_SARIMA%5D.ipynb\" target=\"_parent\"><img src=\"https://colab.research.google.com/assets/colab-badge.svg\" alt=\"Open In Colab\"/></a>"
      ]
    },
    {
      "cell_type": "markdown",
      "source": [
        "# Piogge in Australia\n"
      ],
      "metadata": {
        "id": "kyDy3dE-PJco"
      }
    },
    {
      "cell_type": "markdown",
      "source": [
        "## Preparazione dell'ambiente di sviluppo"
      ],
      "metadata": {
        "id": "mpjoH7sc20G7"
      }
    },
    {
      "cell_type": "code",
      "source": [
        "%%capture\n",
        "!pip install geopandas"
      ],
      "metadata": {
        "id": "sJwK-112ek94"
      },
      "execution_count": null,
      "outputs": []
    },
    {
      "cell_type": "code",
      "execution_count": null,
      "metadata": {
        "id": "aPlgtNsxPCOV",
        "colab": {
          "base_uri": "https://localhost:8080/"
        },
        "outputId": "99cf61ad-9f7f-4dad-e15d-a23a9df85f79"
      },
      "outputs": [
        {
          "output_type": "stream",
          "name": "stderr",
          "text": [
            "/usr/local/lib/python3.7/dist-packages/statsmodels/tools/_testing.py:19: FutureWarning: pandas.util.testing is deprecated. Use the functions in the public API at pandas.testing instead.\n",
            "  import pandas.util.testing as tm\n"
          ]
        }
      ],
      "source": [
        "%matplotlib inline\n",
        "\n",
        "import numpy as np\n",
        "import pandas as pd\n",
        "import seaborn as sns\n",
        "import statsmodels.api as sm\n",
        "import math\n",
        "import missingno\n",
        "import matplotlib.pyplot as plt\n",
        "from geopy.geocoders import Nominatim\n",
        "import time\n",
        "from pprint import pprint\n",
        "import re\n",
        "import geopandas\n",
        "import folium\n",
        "from statsmodels.tsa.stattools import adfuller\n",
        "from statsmodels.graphics.tsaplots import plot_acf\n",
        "from numpy import log\n",
        "\n",
        "from google.colab import drive"
      ]
    },
    {
      "cell_type": "markdown",
      "source": [
        "# Esplorazione dei dati"
      ],
      "metadata": {
        "id": "UHLMwAjrPQL2"
      }
    },
    {
      "cell_type": "code",
      "source": [
        "df = pd.read_csv('data/weatherAUS.csv')\n",
        "df.info()"
      ],
      "metadata": {
        "id": "8JkBiEV8SbTz"
      },
      "execution_count": null,
      "outputs": []
    },
    {
      "cell_type": "code",
      "source": [
        "df"
      ],
      "metadata": {
        "id": "2oJuGk1tSZpU"
      },
      "execution_count": null,
      "outputs": []
    },
    {
      "cell_type": "markdown",
      "source": [
        "Un' oservazione al giorno per un periodo di quasi dieci anni, raggruppati per località. \n",
        "\n",
        "Il seguente listato recupera le informazioni geografiche per ognuna delle località e le visualizza su una mappa.\n",
        "La libreria usata si chiama geopandas e si basa sui DataFrame di pandas ma con l'aggiunta di un campo che contiene informazioni geometriche del record.\n",
        "Inoltre, si sfrutta la libreria folium per visualizzare le località su una mappa interattiva."
      ],
      "metadata": {
        "id": "KAVPXew7Ovsn"
      }
    },
    {
      "cell_type": "code",
      "source": [
        "app = Nominatim(user_agent=\"renato\")\n",
        "\n",
        "lat = []\n",
        "lon = []\n",
        "loc = []\n",
        "not_found = []\n",
        "for loc_name in df['Location'].unique():\n",
        "    formatted = re.sub(\"([a-z])([A-Z])\",\"\\g<1> \\g<2>\", loc_name)\n",
        "    display_name = formatted + ', Australia'\n",
        "    location = app.geocode(display_name)\n",
        "    if location != None:\n",
        "        lat.append(location.raw['lat'])\n",
        "        lon.append(location.raw['lon'])\n",
        "        loc.append(loc_name)\n",
        "    else:\n",
        "        not_found.append(loc_name)\n",
        "\n",
        "d = {'Location':loc, 'Latitude':lat, 'Longitude':lon}\n",
        "geolocations = pd.DataFrame(data=d)\n",
        "\n",
        "gdf = geopandas.GeoDataFrame(\n",
        "    geolocations, \n",
        "    geometry=geopandas.points_from_xy(geolocations.Longitude, geolocations.Latitude))\n",
        "\n",
        "print(\"Località non trovate: \", len(not_found))"
      ],
      "metadata": {
        "id": "wNfOgcNTzGgN"
      },
      "execution_count": null,
      "outputs": []
    },
    {
      "cell_type": "code",
      "source": [
        "m = folium.Map(location=[-23, 133], zoom_start=4.4, tiles='CartoDB positron')\n",
        "\n",
        "for _, r in gdf.iterrows():\n",
        "    lat = r['geometry'].y\n",
        "    lon = r['geometry'].x\n",
        "    folium.Marker(location=[lat, lon],\n",
        "                  popup='{} <br> lat: {} <br> lon: {}'.format(r['Location'], lat, lon)).add_to(m)\n",
        "\n",
        "m"
      ],
      "metadata": {
        "id": "MPPD0Lui_jRs"
      },
      "execution_count": null,
      "outputs": []
    },
    {
      "cell_type": "markdown",
      "source": [
        "#Pulizia dei dati\n",
        "\n",
        "Il primo problema da affrontare è conoscere la quantità dei dati mancanti. Per avere un'idea chiara si possono sfruttare strumenti di visualizzazione come ciò che mette a disposizione la libreria missingno. Questa mostra in una matrice grafica la distribuzione dei valori nulli di tutte le colonne."
      ],
      "metadata": {
        "id": "lDE3XBogWgRM"
      }
    },
    {
      "cell_type": "code",
      "source": [
        "if df.isnull().any(axis=None):\n",
        "    missingno.matrix(df)"
      ],
      "metadata": {
        "id": "DPYDKQO3S3lZ"
      },
      "execution_count": null,
      "outputs": []
    },
    {
      "cell_type": "markdown",
      "source": [
        "Per avere un'idea di massima si può visualizzare l'istogramma che mostra il conteggio delle osservazioni per ogni giorno."
      ],
      "metadata": {
        "id": "KPo_c-sVTwEk"
      }
    },
    {
      "cell_type": "code",
      "source": [
        "fig = sns.catplot(x='Date', kind='count', data=df, height=6, aspect=2)\n",
        "fig.set(xticklabels=[], title='Conteggio delle osservazioni rispetto al campo data')"
      ],
      "metadata": {
        "id": "QH0bqTXjTvNv"
      },
      "execution_count": null,
      "outputs": []
    },
    {
      "cell_type": "markdown",
      "source": [
        "Il grafico mostra il conteggio delle osservazioni per ogni campo data della tabella. Infatti, per lo stesso giorno, abbiamo l'osservazioni di diverse stazioni meteorologiche dislocate in 49 città.\n",
        "Si nota dal grafico come un porzione iniziale ed una buona fetta nella parte finale del periodo di osservazione, soffrano di mancanza dati. Inoltre, si può vedere che circa la metà della serie abbia una porzione piccola di località che possiede poche osservazioni. Si intervine su questi due aspetti per \"ritagliarsi\" un porzione contiugua della serie che possieda una bassa percentuale di valori nulli.\n",
        "\n"
      ],
      "metadata": {
        "id": "TKYU2GOVo0KB"
      }
    },
    {
      "cell_type": "markdown",
      "source": [
        "## Rimozione di record non validi\n",
        "Da queste informazioni, possiamo scegliere di individuare ed escludere quelle località e quei periodi dal dataset in modo da avere un notevole miglioramento nella qualità dei dati.\n",
        "\n",
        "Iniziamo col tagliare via le date all'inizio ed alla fine del periodo di osservazione che possiedono pochissime osservazioni. Si può vedere che queste hanno un conteggio inferiore a 30. Queste, trovandosi all'estremità del periodo, non inficierà sul modello della serie."
      ],
      "metadata": {
        "id": "yNqXTYu3MlsW"
      }
    },
    {
      "cell_type": "code",
      "source": [
        "valid_records = df['Date'].value_counts() > 30\n",
        "filter = [ valid_records[x]  for x in df['Date']]\n",
        "\n",
        "truncated_df = df[filter]\n",
        "\n",
        "print(\"Numero di osservazioni rimosse: \", len(df) - len(truncated_df))"
      ],
      "metadata": {
        "id": "kGT8BdRmtB3J"
      },
      "execution_count": null,
      "outputs": []
    },
    {
      "cell_type": "markdown",
      "source": [
        "A questo punto cerchiamo le località che hanno mancanza di dati."
      ],
      "metadata": {
        "id": "QG7eC4e8f3ms"
      }
    },
    {
      "cell_type": "code",
      "source": [
        "fig = sns.catplot(x='Location', kind='count', data=truncated_df, height=6, aspect=2, order=df['Location'].value_counts().index)\n",
        "fig.set_xticklabels(rotation=90)\n",
        "fig.set(title='Conteggio osservazioni per località')"
      ],
      "metadata": {
        "id": "lbCPPGyjfvfF"
      },
      "execution_count": null,
      "outputs": []
    },
    {
      "cell_type": "markdown",
      "source": [
        "Tre località possiedo metà dei dati rispetto alle altre 46. Queste sono: Katherine, Nhil e Uluru. Decidiamo di eliminarle. Eliminandole, le escludiamo dal modello predittivo, possiamo farlo perchè abbiamo a disposizione una serie temporale per ogni località, quindi, ne abbiamo a disposizione ancora 46.\n"
      ],
      "metadata": {
        "id": "xWg5DldqpHm-"
      }
    },
    {
      "cell_type": "code",
      "source": [
        "filtered_df = truncated_df[(truncated_df['Location'] != 'Katherine' ) & \n",
        "                           (truncated_df['Location'] != 'Nhil' ) & \n",
        "                           (truncated_df['Location'] != 'Uluru' )]\n",
        "print(\"Numero di osservazioni rimosse: \", len(truncated_df) - len(filtered_df))"
      ],
      "metadata": {
        "id": "S9Yq2f5epOSF"
      },
      "execution_count": null,
      "outputs": []
    },
    {
      "cell_type": "markdown",
      "source": [
        "Verifichiamo se il \"ritaglio\" è andato a buon fine."
      ],
      "metadata": {
        "id": "LNN5XZDc9OHx"
      }
    },
    {
      "cell_type": "code",
      "source": [
        "fig = sns.catplot(x='Date', kind='count', data=filtered_df, height=6, aspect=2)\n",
        "fig.set(xticklabels=[], title='Conteggio delle osservazioni rispetto al campo data')"
      ],
      "metadata": {
        "id": "FvW8SWMO-CCr"
      },
      "execution_count": null,
      "outputs": []
    },
    {
      "cell_type": "markdown",
      "source": [
        "# Predizione Univariata \n",
        "Si vuole prevedere l'arrivo della pioggia. Estraiamo la colonna in esame, 'RainFall' e eseguiamo la procedura per ottenere un modello SARIMA dalla serie. \n"
      ],
      "metadata": {
        "id": "L988Kjok3MwH"
      }
    },
    {
      "cell_type": "code",
      "source": [
        "rainfall_df = filtered_df[['Date','Location','Rainfall']]\n",
        "print(rainfall_df)"
      ],
      "metadata": {
        "id": "XZYUU4Cj3m4r"
      },
      "execution_count": null,
      "outputs": []
    },
    {
      "cell_type": "markdown",
      "source": [
        "## Imputazione\n",
        "Avendo a disposizione molte località da cui sono state prese le misure, se una località possiede un valore nullo, con buona probabilità il valore catturato da una stazione vicina non è nullo e vicino a quello che sarebbe stato il valore reale.\n",
        "Quindi, si riordina la serie per data, in modo tale da avere vicini le osservazioni dello stesso giorno, e poi si esegue un'imputazione semplice, assegnando il valore più vicino valido quando si incontra un dato mancante."
      ],
      "metadata": {
        "id": "FTST4EbuMQnZ"
      }
    },
    {
      "cell_type": "code",
      "source": [
        "rainfall_sorted = rainfall_df.sort_values(by='Date')\n",
        "print(rainfall_sorted)"
      ],
      "metadata": {
        "id": "02jDliycjdv1"
      },
      "execution_count": null,
      "outputs": []
    },
    {
      "cell_type": "code",
      "source": [
        "last = 0.0\n",
        "imputed_vals = []\n",
        "for _, r in rainfall_sorted.iterrows():\n",
        "    current = r['Rainfall']\n",
        "\n",
        "    if pd.isnull(current):\n",
        "        imputed_vals.append(last)\n",
        "    else:\n",
        "        imputed_vals.append(current)\n",
        "        last = current\n",
        "\n",
        "d = {'Date': rainfall_sorted['Date'],\n",
        "     'Location': rainfall_sorted['Location'], \n",
        "     'Rainfall': imputed_vals}\n",
        "imputed_rainfall = pd.DataFrame(data=d).sort_values(by='Location')"
      ],
      "metadata": {
        "id": "HiKdMGsslWTw"
      },
      "execution_count": null,
      "outputs": []
    },
    {
      "cell_type": "markdown",
      "source": [
        "Si ricontrolla sei i valori nulli sono stati rimossi."
      ],
      "metadata": {
        "id": "48Iuyd9Trc_f"
      }
    },
    {
      "cell_type": "code",
      "source": [
        "before = (rainfall_df.isnull().mean()*100).rename('Prima')\n",
        "after = (imputed_rainfall.isnull().mean()*100).rename('Dopo')\n",
        "\n",
        "null_count = before.to_frame().merge(after.rename('Dopo'), left_index=True, right_index=True)\n",
        "print(null_count)"
      ],
      "metadata": {
        "id": "SCi06OKZm3by"
      },
      "execution_count": null,
      "outputs": []
    },
    {
      "cell_type": "markdown",
      "source": [
        "## Date mancanti\n",
        "Nonostante i valori nulli non siano più presenti può sempre essere presente il problema di date mancanti. Per effettuare le predizioni è necessario che ogni riga rappresenti lo stesso intervallo di tempo, nel nostro caso un giorno. Quindi, si esegue la seguente procedura:\n",
        "\n",
        "\n",
        "1.   si individua l'intervallo temporale della serie\n",
        "2.   si genera una lista di indici temporali con frequenza giornaliera\n",
        "3.   la si confronta con quella del dataset e, se non corrisponde,\n",
        "4.   si espande la serie temporale con le dati mancanti aggiungendo dei valori \n",
        "nulli\n",
        "5.   si estraggono gli stessi periodi mancanti ma dell'anno precedente e,\n",
        "6.   si sostituiscono con essi.\n"
      ],
      "metadata": {
        "id": "xzVSTpspgI3h"
      }
    },
    {
      "cell_type": "code",
      "source": [
        "location = 'Melbourne'\n",
        "filtered = imputed_rainfall.query('Location == @location')\n",
        "rainfall_series = filtered['Rainfall']\n",
        "rainfall_series.index = pd.to_datetime(filtered['Date'])\n",
        "rainfall_series.sort_index()"
      ],
      "metadata": {
        "id": "fADeGv_kaGDB"
      },
      "execution_count": null,
      "outputs": []
    },
    {
      "cell_type": "code",
      "source": [
        "first_day = rainfall_series.index.min()\n",
        "last_day = rainfall_series.index.max()\n",
        "print(\"Finestra temporale da\", first_day, \" a \", last_day) "
      ],
      "metadata": {
        "id": "DOak-FmYdcJl"
      },
      "execution_count": null,
      "outputs": []
    },
    {
      "cell_type": "code",
      "source": [
        "correct_index = pd.period_range(first_day, last_day, freq = 'D')\n",
        "actual_index = rainfall_series.index.to_period(freq = 'D')\n",
        "print(\"Numero di giorni del periodo: \", len(correct_index))\n",
        "print(\"Numero di record nei dati: \", len(actual_index))"
      ],
      "metadata": {
        "id": "1iS2gGYWfDN0"
      },
      "execution_count": null,
      "outputs": []
    },
    {
      "cell_type": "code",
      "source": [
        "rainfall_series.index = actual_index\n",
        "expanded_df = rainfall_series.reindex(correct_index).to_frame()"
      ],
      "metadata": {
        "id": "lnnCuNYIgp9g"
      },
      "execution_count": null,
      "outputs": []
    },
    {
      "cell_type": "code",
      "source": [
        "missingno.matrix(expanded_df, figsize=(5,10))"
      ],
      "metadata": {
        "id": "KqDC2yjzFGUW"
      },
      "execution_count": null,
      "outputs": []
    },
    {
      "cell_type": "markdown",
      "source": [
        "Come si può vedere, i vuoti nelle date si concentrano i tre punti. In realtà, se si va nel dettaglio, si troverà che tale date corrispondono a precisamente tre mesi.\n"
      ],
      "metadata": {
        "id": "Y45CCo4OOti5"
      }
    },
    {
      "cell_type": "code",
      "source": [
        "# Estrai gli intervalli di tempo mancanti \n",
        "\n",
        "null_intervals = []\n",
        "counting = False\n",
        "series = expanded_df['Rainfall']\n",
        "first = series.index[0]\n",
        "last = first\n",
        "for idx, x in series.iteritems():\n",
        "\n",
        "    if math.isnan(x) and not counting:\n",
        "        first = idx\n",
        "        counting = True\n",
        "    \n",
        "    if not math.isnan(x) and counting:\n",
        "        last = idx - 1\n",
        "        counting = False\n",
        "        null_intervals.append(pd.period_range(first,last))\n",
        "\n",
        "print(\"Intervalli temporali: \\n\", null_intervals)"
      ],
      "metadata": {
        "id": "LcaL9DcaO_sa"
      },
      "execution_count": null,
      "outputs": []
    },
    {
      "cell_type": "code",
      "source": [
        "# Sostituisci il periodo mancante con lo stesso periodo dell'anno precedente\n",
        "\n",
        "for p in null_intervals:\n",
        "    start_day = p[0].day\n",
        "    start_month = p[0].month\n",
        "    start_year = p[0].year - 1 # anno precedente\n",
        "\n",
        "    end_day = p[-1].day\n",
        "    end_month = p[-1].month\n",
        "    end_year = p[-1].year - 1 # anno precedente\n",
        "\n",
        "    prev_year_start = pd.Period(year=start_year, month=start_month, day=start_day, freq='D')\n",
        "    prev_year_end = pd.Period(year=end_year, month=end_month, day=end_day, freq='D')\n",
        "\n",
        "    prev_year = pd.period_range(prev_year_start, prev_year_end)\n",
        "\n",
        "    # sostituisci\n",
        "    series.loc[p] = series.loc[prev_year].array "
      ],
      "metadata": {
        "id": "xytU3uGvqaXc"
      },
      "execution_count": null,
      "outputs": []
    },
    {
      "cell_type": "code",
      "source": [
        "print(\"Valori null dopo la modifica: \", series.isnull().mean()*100)"
      ],
      "metadata": {
        "id": "bOFG2LjeHnw8"
      },
      "execution_count": null,
      "outputs": []
    },
    {
      "cell_type": "markdown",
      "source": [
        "# Il modello\n",
        "Si sceglie il modello SARIMA. Prendiamo una località, per esempio Sydney e verifichiamo la stazionarietà della serie."
      ],
      "metadata": {
        "id": "AsdumPxPPm0E"
      }
    },
    {
      "cell_type": "markdown",
      "source": [
        "## Scelta del parametro di differenziazione\n"
      ],
      "metadata": {
        "id": "3rSHpzIvPqgm"
      }
    },
    {
      "cell_type": "code",
      "source": [
        "data = series.to_frame().sort_index()\n",
        "data['D.Rainfall'] = data['Rainfall'].diff()"
      ],
      "metadata": {
        "id": "oAZHgHqXjsSS"
      },
      "execution_count": null,
      "outputs": []
    },
    {
      "cell_type": "code",
      "source": [
        "data.plot(kind='line',subplots=True, figsize=(15,10))"
      ],
      "metadata": {
        "id": "XrSbz8CwmRlS"
      },
      "execution_count": null,
      "outputs": []
    },
    {
      "cell_type": "code",
      "source": [
        "pv = adfuller(data['Rainfall'])[1]\n",
        "print('p-value: %f' % pv)"
      ],
      "metadata": {
        "id": "QhYnCD7S9X_p"
      },
      "execution_count": null,
      "outputs": []
    },
    {
      "cell_type": "markdown",
      "source": [
        "Visto che il test di Fuller risulta con un p-value zero, significa che la serie è già stazionaria e non necessita di differenziazione.\n"
      ],
      "metadata": {
        "id": "s3WbuiHC8MkY"
      }
    },
    {
      "cell_type": "markdown",
      "source": [
        "## Scelta del parametro di media mobile (MA)\n"
      ],
      "metadata": {
        "id": "4HFpXOWV8Vip"
      }
    },
    {
      "cell_type": "code",
      "source": [
        "sm.graphics.tsa.plot_acf(data['Rainfall'].values.squeeze(), lags=40)\n",
        "plt.show()"
      ],
      "metadata": {
        "id": "t7QuU7a59Qcz"
      },
      "execution_count": null,
      "outputs": []
    },
    {
      "cell_type": "markdown",
      "source": [
        "Il numero dei primi punti che si trovano al di fuori dell'area di confidenza, indica il numero di termini necessari per rimuovere l'autocorrelazione dalla serie stazionaria.\n",
        "\n",
        "In questo caso scegliamo un valore di autoregressione (MA) di 1."
      ],
      "metadata": {
        "id": "dESs-Dd_-qp8"
      }
    },
    {
      "cell_type": "markdown",
      "source": [
        "## Scelta del parametro di autoregressione (AR)\n",
        "Si ispeziona i termini precedenti senza considerari quelli nel mezzo."
      ],
      "metadata": {
        "id": "QXqne1EZCyh7"
      }
    },
    {
      "cell_type": "code",
      "source": [
        "sm.graphics.tsa.plot_pacf(data['Rainfall'].values.squeeze(), lags=40, method=\"ywm\")\n",
        "plt.show()"
      ],
      "metadata": {
        "id": "N9m3L1IC8-hs"
      },
      "execution_count": null,
      "outputs": []
    },
    {
      "cell_type": "markdown",
      "source": [
        "Si sceglie p=1."
      ],
      "metadata": {
        "id": "iateXncyDyuO"
      }
    },
    {
      "cell_type": "markdown",
      "source": [
        "Scomporre il dataset."
      ],
      "metadata": {
        "id": "GDOrLGBcw7cF"
      }
    },
    {
      "cell_type": "code",
      "source": [
        "# TODO cpntinuare da qui, il df pronto si trova in data"
      ],
      "metadata": {
        "id": "nciiJUDpdwsd"
      },
      "execution_count": null,
      "outputs": []
    },
    {
      "cell_type": "code",
      "source": [
        "fig = plt.figure(figsize=(20,8))\n",
        "model = ARIMA(data['Rainfall'], order=(1,0,1)) \n",
        "ax = plt.gca()\n",
        "results = model.fit() \n",
        "plt.plot(data['Rainfall'])\n",
        "plt.plot(results.fittedvalues, color='red')\n",
        "ax.legend(['Rainfa', 'Forecast'])\n",
        "\n",
        "print(results.summary())"
      ],
      "metadata": {
        "id": "k9qjOGWHG-RS"
      },
      "execution_count": null,
      "outputs": []
    },
    {
      "cell_type": "code",
      "source": [
        "endog = data.loc[:, \"Rainfall\"]\n",
        "nobs = endog.shape[0]"
      ],
      "metadata": {
        "id": "mwrf-I6Mw99d"
      },
      "execution_count": null,
      "outputs": []
    },
    {
      "cell_type": "code",
      "source": [
        "endog"
      ],
      "metadata": {
        "colab": {
          "base_uri": "https://localhost:8080/"
        },
        "id": "eBT9_6BYyOSu",
        "outputId": "d3a28a71-fdb6-4de3-fe27-8647ccb76077"
      },
      "execution_count": null,
      "outputs": [
        {
          "output_type": "execute_result",
          "data": {
            "text/plain": [
              "2009-01-01    0.0\n",
              "2009-01-02    0.2\n",
              "2009-01-03    0.6\n",
              "2009-01-04    0.0\n",
              "2009-01-05    0.0\n",
              "             ... \n",
              "2017-06-21    0.6\n",
              "2017-06-22    0.2\n",
              "2017-06-23    0.0\n",
              "2017-06-24    1.4\n",
              "2017-06-25    0.0\n",
              "Freq: D, Name: Rainfall, Length: 3098, dtype: float64"
            ]
          },
          "metadata": {},
          "execution_count": 34
        }
      ]
    },
    {
      "cell_type": "code",
      "source": [
        "filtered.index = pd.period_range('2009-01-01', '2017-06-25', freq = 'D')"
      ],
      "metadata": {
        "id": "Qpg_DfmQCLS6"
      },
      "execution_count": null,
      "outputs": []
    },
    {
      "cell_type": "markdown",
      "source": [
        "Modello su un sotto insieme dei dati"
      ],
      "metadata": {
        "id": "yL_CVZN2ALbJ"
      }
    },
    {
      "cell_type": "code",
      "source": [
        "mod = sm.tsa.statespace.SARIMAX(endog.loc[:'2016'], trend='c' , order=(1,0,1))\n",
        "fit_res = mod.fit(disp=False, maxiter=250)\n",
        "print(fit_res.summary())"
      ],
      "metadata": {
        "id": "DoT5MKHIELuW"
      },
      "execution_count": null,
      "outputs": []
    },
    {
      "cell_type": "markdown",
      "source": [
        "Modello su tutto il dataset"
      ],
      "metadata": {
        "id": "wrYM-3fJATKb"
      }
    },
    {
      "cell_type": "code",
      "source": [
        "mod = sm.tsa.statespace.SARIMAX(endog, trend='c', order=(3,0,2))\n",
        "res = mod.filter(fit_res.params)"
      ],
      "metadata": {
        "id": "gosut939AZoU"
      },
      "execution_count": null,
      "outputs": []
    },
    {
      "cell_type": "markdown",
      "source": [
        "## Predizioni out-of-sample\n"
      ],
      "metadata": {
        "id": "Yucco1e4ELR9"
      }
    },
    {
      "cell_type": "code",
      "source": [
        "print(res.forecast())"
      ],
      "metadata": {
        "id": "4AuWRJdK-LVB"
      },
      "execution_count": null,
      "outputs": []
    },
    {
      "cell_type": "code",
      "source": [
        "fcast_res2 = res.get_forecast(steps=2)\n",
        "# Note: since we did not specify the alpha parameter, the\n",
        "# confidence level is at the default, 95%\n",
        "print(fcast_res2.summary_frame())"
      ],
      "metadata": {
        "id": "LpZw_HW9B25w"
      },
      "execution_count": null,
      "outputs": []
    },
    {
      "cell_type": "code",
      "source": [
        "fig, ax = plt.subplots(figsize=(15, 5))\n",
        "\n",
        "# Plot the data (here we are subsetting it to get a better look at the forecasts)\n",
        "endog.loc['2016':].plot(ax=ax)\n",
        "\n",
        "# Construct the forecasts\n",
        "fcast = res.get_forecast().summary_frame()\n",
        "fcast['mean'].plot(ax=ax, style='k--')\n",
        "ax.fill_between(fcast.index, fcast['mean_ci_lower'], fcast['mean_ci_upper'], color='k', alpha=0.1);"
      ],
      "metadata": {
        "id": "GvMZzWs5Aw8s"
      },
      "execution_count": null,
      "outputs": []
    }
  ]
}